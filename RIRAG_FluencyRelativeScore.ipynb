{
  "nbformat": 4,
  "nbformat_minor": 0,
  "metadata": {
    "colab": {
      "provenance": [],
      "gpuType": "A100",
      "authorship_tag": "ABX9TyOvUVjWxXvEJ+hrxmiuw30s",
      "include_colab_link": true
    },
    "kernelspec": {
      "name": "python3",
      "display_name": "Python 3"
    },
    "language_info": {
      "name": "python"
    },
    "accelerator": "GPU"
  },
  "cells": [
    {
      "cell_type": "markdown",
      "metadata": {
        "id": "view-in-github",
        "colab_type": "text"
      },
      "source": [
        "<a href=\"https://colab.research.google.com/github/RegNLP/RePASs/blob/main/RIRAG_FluencyRelativeScore.ipynb\" target=\"_parent\"><img src=\"https://colab.research.google.com/assets/colab-badge.svg\" alt=\"Open In Colab\"/></a>"
      ]
    },
    {
      "cell_type": "code",
      "source": [
        "from google.colab import drive\n",
        "drive.mount('/content/drive')"
      ],
      "metadata": {
        "colab": {
          "base_uri": "https://localhost:8080/"
        },
        "id": "Bgs_94kelgrO",
        "outputId": "9f05729f-38a0-4e33-98f1-bc843ce18406"
      },
      "execution_count": null,
      "outputs": [
        {
          "output_type": "stream",
          "name": "stdout",
          "text": [
            "Mounted at /content/drive\n"
          ]
        }
      ]
    },
    {
      "cell_type": "code",
      "execution_count": 31,
      "metadata": {
        "colab": {
          "base_uri": "https://localhost:8080/"
        },
        "id": "d3pYLKJsJ1ck",
        "outputId": "65b78e53-509a-4413-9c47-5a5416f31257"
      },
      "outputs": [
        {
          "output_type": "stream",
          "name": "stderr",
          "text": [
            "Token indices sequence length is longer than the specified maximum sequence length for this model (4495 > 1024). Running this sequence through the model will result in indexing errors\n"
          ]
        }
      ],
      "source": [
        "import torch\n",
        "from transformers import GPT2LMHeadModel, GPT2TokenizerFast\n",
        "from torch.nn.utils.rnn import pad_sequence\n",
        "import json\n",
        "import csv\n",
        "import os\n",
        "\n",
        "class FluencyRelativeScore:\n",
        "    def __init__(self, same_length=False):\n",
        "        self.model = GPT2LMHeadModel.from_pretrained(\"gpt2\").cuda()\n",
        "        self.tokenizer = GPT2TokenizerFast.from_pretrained(\"gpt2\")\n",
        "        self.model.half().eval()\n",
        "        self.same_length = same_length\n",
        "        self.max_output_length = 80  # Process in 80-token chunks\n",
        "\n",
        "    def split_into_chunks(self, text):\n",
        "        \"\"\"Splits text into 80-token chunks for full-content processing.\"\"\"\n",
        "        tokens = self.tokenizer.encode(text)\n",
        "        return [tokens[i:i + (self.max_output_length - 1)] for i in range(0, len(tokens), self.max_output_length - 1)]\n",
        "\n",
        "    def preprocess_batch(self, decoded):\n",
        "        \"\"\"Tokenizes, pads, and prepares batch inputs for GPT-2.\"\"\"\n",
        "        all_chunks = []\n",
        "        for dec in decoded:\n",
        "            chunks = self.split_into_chunks(dec)\n",
        "            if chunks:  # ensure non-empty chunks\n",
        "                all_chunks.extend(chunks)\n",
        "\n",
        "        if not all_chunks:\n",
        "            # Return empty tensors if no chunks found\n",
        "            return None, None, 0\n",
        "\n",
        "        decs_inp = pad_sequence(\n",
        "            [torch.LongTensor([self.tokenizer.bos_token_id] + chunk) for chunk in all_chunks],\n",
        "            batch_first=True, padding_value=0\n",
        "        )\n",
        "        decs_out = pad_sequence(\n",
        "            [torch.LongTensor(chunk + [self.tokenizer.eos_token_id]) for chunk in all_chunks],\n",
        "            batch_first=True, padding_value=-1\n",
        "        )\n",
        "        return decs_inp.cuda(), decs_out.cuda(), len(all_chunks)\n",
        "\n",
        "\n",
        "    def text2loss(self, text):\n",
        "        txt_inp, txt_out, num_chunks = self.preprocess_batch(text)\n",
        "\n",
        "        if num_chunks == 0 or txt_inp is None or txt_out is None:\n",
        "            # Return high loss if text is empty or invalid\n",
        "            return float('inf')\n",
        "\n",
        "        with torch.no_grad():\n",
        "            model_outputs = self.model(input_ids=txt_inp)\n",
        "            crit = torch.nn.CrossEntropyLoss(ignore_index=-1, reduction='none')\n",
        "            loss = crit(\n",
        "                model_outputs[\"logits\"].view(-1, self.tokenizer.vocab_size),\n",
        "                txt_out.view(-1)\n",
        "            ).view(txt_out.shape)\n",
        "\n",
        "            mask = (txt_inp != 0).float()\n",
        "            non_pad_count = torch.sum(mask, dim=1)\n",
        "            loss_per_chunk = torch.sum(loss, dim=1) / non_pad_count\n",
        "\n",
        "        return loss_per_chunk.mean().item()\n",
        "\n",
        "\n",
        "    def score(self, sources, generateds, printing=False):\n",
        "        \"\"\"Computes fluency score by comparing source and generated text losses.\"\"\"\n",
        "        sources_score = torch.tensor([self.text2loss([src]) for src in sources])\n",
        "        generateds_score = torch.tensor([self.text2loss([gen]) for gen in generateds])\n",
        "\n",
        "        # Relative fluency score formula\n",
        "        scores = (1.3 + sources_score - generateds_score) / 1.3\n",
        "        scores = torch.clamp(scores, 0.001, 1.0).tolist()\n",
        "\n",
        "        if printing:\n",
        "            print(\"[fluency]\", scores)\n",
        "        return {\"scores\": scores, \"sources_loss\": sources_score.tolist(), \"generateds_loss\": generateds_score.tolist()}\n",
        "\n",
        "\n",
        "def main():\n",
        "    input_json_file = \"/content/drive/Othercomputers/MBZUAI/MBZUAI/RIRAG System Submission/12_AUEB NLP Group/submission3/no_gen.json\"      # e.g., \"data/input.json\"\n",
        "    output_folder_path = \"/content/drive/Othercomputers/MBZUAI/MBZUAI/RIRAG Task 2 Simplification Evaluations\"      # e.g., \"results\"\n",
        "    method_name = \"gpt2_next_word_loss_fluency_score_chunked\"\n",
        "    team_name = \"12_AUEB NLP Group_3\"\n",
        "\n",
        "    final_output_folder = os.path.join(output_folder_path, method_name, team_name)\n",
        "    os.makedirs(final_output_folder, exist_ok=True)\n",
        "\n",
        "    with open(input_json_file, 'r', encoding='utf-8') as f:\n",
        "        data = json.load(f)\n",
        "\n",
        "    if not isinstance(data, list):\n",
        "        data = [data]\n",
        "\n",
        "    scorer = FluencyRelativeScore()\n",
        "    rows = []\n",
        "    total_fluency_score = 0\n",
        "    total_source_loss = 0\n",
        "    total_generated_loss = 0\n",
        "    count = 0\n",
        "\n",
        "    for item in data:\n",
        "        question_id = item.get(\"QuestionID\", \"\")\n",
        "        retrieved_passages = item.get(\"RetrievedPassages\", [])\n",
        "        raw_text = \" \".join(retrieved_passages)\n",
        "        simplified_text = item.get(\"Answer\", \"\")\n",
        "\n",
        "        results = scorer.score([raw_text], [simplified_text], printing=False)\n",
        "        fluency_score = results[\"scores\"][0]\n",
        "        source_loss = results[\"sources_loss\"][0]\n",
        "        generated_loss = results[\"generateds_loss\"][0]\n",
        "\n",
        "        rows.append({\n",
        "            \"QuestionID\": question_id,\n",
        "            \"FluencyScore\": fluency_score,\n",
        "            \"SourceLoss\": source_loss,\n",
        "            \"GeneratedLoss\": generated_loss\n",
        "        })\n",
        "\n",
        "        total_fluency_score += fluency_score\n",
        "        total_source_loss += source_loss\n",
        "        total_generated_loss += generated_loss\n",
        "        count += 1\n",
        "\n",
        "    csv_file_path = os.path.join(final_output_folder, \"fluency_scores.csv\")\n",
        "    fieldnames = [\"QuestionID\", \"FluencyScore\", \"SourceLoss\", \"GeneratedLoss\"]\n",
        "    with open(csv_file_path, 'w', newline='', encoding='utf-8') as csvfile:\n",
        "        writer = csv.DictWriter(csvfile, fieldnames=fieldnames)\n",
        "        writer.writeheader()\n",
        "        for row in rows:\n",
        "            writer.writerow(row)\n",
        "\n",
        "    if count > 0:\n",
        "        avg_fluency_score = total_fluency_score / count\n",
        "        avg_source_loss = total_source_loss / count\n",
        "        avg_generated_loss = total_generated_loss / count\n",
        "    else:\n",
        "        avg_fluency_score = avg_source_loss = avg_generated_loss = 0\n",
        "\n",
        "    txt_file_path = os.path.join(final_output_folder, \"average_scores.txt\")\n",
        "    with open(txt_file_path, 'w', encoding='utf-8') as txtfile:\n",
        "        txtfile.write(\"Average Fluency Scores:\\n\")\n",
        "        txtfile.write(f\"Fluency Score: {avg_fluency_score:.4f}\\n\")\n",
        "        txtfile.write(f\"Source Loss: {avg_source_loss:.4f}\\n\")\n",
        "        txtfile.write(f\"Generated Loss: {avg_generated_loss:.4f}\\n\")\n",
        "\n",
        "\n",
        "if __name__ == \"__main__\":\n",
        "    main()\n"
      ]
    }
  ]
}