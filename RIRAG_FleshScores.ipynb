{
  "nbformat": 4,
  "nbformat_minor": 0,
  "metadata": {
    "colab": {
      "provenance": [],
      "mount_file_id": "https://github.com/RegNLP/RePASs/blob/main/RIRAG_FleshScores.ipynb",
      "authorship_tag": "ABX9TyNTPYttn81Ku8O+mkaDCUs3",
      "include_colab_link": true
    },
    "kernelspec": {
      "name": "python3",
      "display_name": "Python 3"
    },
    "language_info": {
      "name": "python"
    }
  },
  "cells": [
    {
      "cell_type": "markdown",
      "metadata": {
        "id": "view-in-github",
        "colab_type": "text"
      },
      "source": [
        "<a href=\"https://colab.research.google.com/github/RegNLP/RePASs/blob/main/RIRAG_FleshScores.ipynb\" target=\"_parent\"><img src=\"https://colab.research.google.com/assets/colab-badge.svg\" alt=\"Open In Colab\"/></a>"
      ]
    },
    {
      "cell_type": "code",
      "source": [
        "!pip install textstat\n"
      ],
      "metadata": {
        "colab": {
          "base_uri": "https://localhost:8080/"
        },
        "id": "bbE62UZvZTA2",
        "outputId": "40b0f666-10dc-44ec-b77d-d4d2c197af98"
      },
      "execution_count": 1,
      "outputs": [
        {
          "output_type": "stream",
          "name": "stdout",
          "text": [
            "Collecting textstat\n",
            "  Downloading textstat-0.7.5-py3-none-any.whl.metadata (15 kB)\n",
            "Collecting pyphen (from textstat)\n",
            "  Downloading pyphen-0.17.2-py3-none-any.whl.metadata (3.2 kB)\n",
            "Collecting cmudict (from textstat)\n",
            "  Downloading cmudict-1.0.32-py3-none-any.whl.metadata (3.6 kB)\n",
            "Requirement already satisfied: setuptools in /usr/local/lib/python3.11/dist-packages (from textstat) (75.1.0)\n",
            "Requirement already satisfied: importlib-metadata>=5 in /usr/local/lib/python3.11/dist-packages (from cmudict->textstat) (8.6.1)\n",
            "Requirement already satisfied: importlib-resources>=5 in /usr/local/lib/python3.11/dist-packages (from cmudict->textstat) (6.5.2)\n",
            "Requirement already satisfied: zipp>=3.20 in /usr/local/lib/python3.11/dist-packages (from importlib-metadata>=5->cmudict->textstat) (3.21.0)\n",
            "Downloading textstat-0.7.5-py3-none-any.whl (105 kB)\n",
            "\u001b[2K   \u001b[90m━━━━━━━━━━━━━━━━━━━━━━━━━━━━━━━━━━━━━━━━\u001b[0m \u001b[32m105.3/105.3 kB\u001b[0m \u001b[31m2.0 MB/s\u001b[0m eta \u001b[36m0:00:00\u001b[0m\n",
            "\u001b[?25hDownloading cmudict-1.0.32-py3-none-any.whl (939 kB)\n",
            "\u001b[2K   \u001b[90m━━━━━━━━━━━━━━━━━━━━━━━━━━━━━━━━━━━━━━━━\u001b[0m \u001b[32m939.4/939.4 kB\u001b[0m \u001b[31m17.0 MB/s\u001b[0m eta \u001b[36m0:00:00\u001b[0m\n",
            "\u001b[?25hDownloading pyphen-0.17.2-py3-none-any.whl (2.1 MB)\n",
            "\u001b[2K   \u001b[90m━━━━━━━━━━━━━━━━━━━━━━━━━━━━━━━━━━━━━━━━\u001b[0m \u001b[32m2.1/2.1 MB\u001b[0m \u001b[31m45.5 MB/s\u001b[0m eta \u001b[36m0:00:00\u001b[0m\n",
            "\u001b[?25hInstalling collected packages: pyphen, cmudict, textstat\n",
            "Successfully installed cmudict-1.0.32 pyphen-0.17.2 textstat-0.7.5\n"
          ]
        }
      ]
    },
    {
      "cell_type": "code",
      "execution_count": 24,
      "metadata": {
        "id": "nmdKOr5KZQwd",
        "outputId": "0f6ab37c-66ef-4575-9d6c-1deb0060844b",
        "colab": {
          "base_uri": "https://localhost:8080/"
        }
      },
      "outputs": [
        {
          "output_type": "stream",
          "name": "stdout",
          "text": [
            "\n",
            "--- Results ---\n",
            "Average Readability Scores:\n",
            "Source Text:\n",
            "Flesch-Kincaid Grade Level: 25.76\n",
            "Flesch Reading Ease: -2.23\n",
            "SMOG Index: 14.08\n",
            "\n",
            "Simplified Text:\n",
            "Flesch-Kincaid Grade Level: 17.86\n",
            "Flesch Reading Ease: 14.60\n",
            "SMOG Index: 19.08\n",
            "\n"
          ]
        }
      ],
      "source": [
        "import json\n",
        "import csv\n",
        "import os\n",
        "import textstat\n",
        "\n",
        "def main():\n",
        "    # Update these variables with your desired inputs.\n",
        "    input_json_file = \"/content/drive/Othercomputers/MBZUAI/MBZUAI/RIRAG System Submission/0_Baseline/retrieval_results.rank_fusion_bm25_answers.json\"      # e.g., \"data/input.json\"\n",
        "    output_folder_path = \"/content/drive/Othercomputers/MBZUAI/MBZUAI/RIRAG Task 2 Simplification Evaluations\"      # e.g., \"results\"\n",
        "    method_name = \"statictical_readability_scores\"                 # e.g., \"readability_scores\"\n",
        "    team_name = \"0_Baseline/rank_fusion\"                              # e.g., \"TeamA\"\"\n",
        "\n",
        "    # Create final output folder by joining the output folder path and team name.\n",
        "    final_output_folder = os.path.join(output_folder_path, method_name, team_name)\n",
        "    os.makedirs(final_output_folder, exist_ok=True)\n",
        "\n",
        "    # Load JSON data from the file.\n",
        "    with open(input_json_file, 'r', encoding='utf-8') as f:\n",
        "        data = json.load(f)\n",
        "\n",
        "    # If the loaded data is a single JSON object, wrap it in a list.\n",
        "    if not isinstance(data, list):\n",
        "        data = [data]\n",
        "\n",
        "    # Initialize list for CSV rows and accumulators for averages.\n",
        "    rows = []\n",
        "    total_fkg_source = 0\n",
        "    total_fre_source = 0\n",
        "    total_smog_source = 0\n",
        "    total_fkg_simplified = 0\n",
        "    total_fre_simplified = 0\n",
        "    total_smog_simplified = 0\n",
        "    count = 0\n",
        "\n",
        "    # Process each item.\n",
        "    for item in data:\n",
        "        question_id = item.get(\"QuestionID\", \"\")\n",
        "        retrieved_passages = item.get(\"RetrievedPassages\", [])\n",
        "\n",
        "        if not retrieved_passages:\n",
        "            print(f\"Skipping {question_id} due to empty RetrievedPassages\")\n",
        "            raw_text = \"No Retrieved Passages Available\"\n",
        "        else:\n",
        "            raw_text = \" \".join(retrieved_passages).strip()\n",
        "\n",
        "        simplified_text = item.get(\"Answer\", \"\").strip()\n",
        "        if not simplified_text:\n",
        "            print(f\"Skipping {question_id} due to empty Answer\")\n",
        "            simplified_text = \"No Answer Provided\"\n",
        "\n",
        "\n",
        "        # Calculate readability metrics for the source text.\n",
        "        fkg_source = textstat.flesch_kincaid_grade(raw_text)\n",
        "        fre_source = textstat.flesch_reading_ease(raw_text)\n",
        "        smog_source = textstat.smog_index(raw_text)\n",
        "\n",
        "        # Calculate readability metrics for the simplified text.\n",
        "        fkg_simplified = textstat.flesch_kincaid_grade(simplified_text)\n",
        "        fre_simplified = textstat.flesch_reading_ease(simplified_text)\n",
        "        smog_simplified = textstat.smog_index(simplified_text)\n",
        "\n",
        "        # Append the results as a row.\n",
        "        rows.append({\n",
        "            \"QuestionID\": question_id,\n",
        "            \"Flesch_Kincaid_Grade_Source\": fkg_source,\n",
        "            \"Flesch_Reading_Ease_Source\": fre_source,\n",
        "            \"SMOG_Index_Source\": smog_source,\n",
        "            \"Flesch_Kincaid_Grade_Simplified\": fkg_simplified,\n",
        "            \"Flesch_Reading_Ease_Simplified\": fre_simplified,\n",
        "            \"SMOG_Index_Simplified\": smog_simplified\n",
        "        })\n",
        "\n",
        "        # Update accumulators.\n",
        "        total_fkg_source += fkg_source\n",
        "        total_fre_source += fre_source\n",
        "        total_smog_source += smog_source\n",
        "        total_fkg_simplified += fkg_simplified\n",
        "        total_fre_simplified += fre_simplified\n",
        "        total_smog_simplified += smog_simplified\n",
        "        count += 1\n",
        "\n",
        "    # Write individual item results to a CSV file.\n",
        "    csv_file_path = os.path.join(final_output_folder, \"readability_scores.csv\")\n",
        "    fieldnames = [\n",
        "        \"QuestionID\",\n",
        "        \"Flesch_Kincaid_Grade_Source\",\n",
        "        \"Flesch_Reading_Ease_Source\",\n",
        "        \"SMOG_Index_Source\",\n",
        "        \"Flesch_Kincaid_Grade_Simplified\",\n",
        "        \"Flesch_Reading_Ease_Simplified\",\n",
        "        \"SMOG_Index_Simplified\"\n",
        "    ]\n",
        "    with open(csv_file_path, 'w', newline='', encoding='utf-8') as csvfile:\n",
        "        writer = csv.DictWriter(csvfile, fieldnames=fieldnames)\n",
        "        writer.writeheader()\n",
        "        for row in rows:\n",
        "            writer.writerow(row)\n",
        "\n",
        "    # Compute average scores across all items.\n",
        "    if count > 0:\n",
        "        avg_fkg_source = total_fkg_source / count\n",
        "        avg_fre_source = total_fre_source / count\n",
        "        avg_smog_source = total_smog_source / count\n",
        "        avg_fkg_simplified = total_fkg_simplified / count\n",
        "        avg_fre_simplified = total_fre_simplified / count\n",
        "        avg_smog_simplified = total_smog_simplified / count\n",
        "    else:\n",
        "        avg_fkg_source = avg_fre_source = avg_smog_source = 0\n",
        "        avg_fkg_simplified = avg_fre_simplified = avg_smog_simplified = 0\n",
        "\n",
        "    # Write average scores to a TXT file.\n",
        "    txt_file_path = os.path.join(final_output_folder, \"average_scores.txt\")\n",
        "    with open(txt_file_path, 'w', encoding='utf-8') as txtfile:\n",
        "        txtfile.write(\"Average Readability Scores:\\n\")\n",
        "        txtfile.write(\"Source Text:\\n\")\n",
        "        txtfile.write(f\"Flesch-Kincaid Grade Level: {avg_fkg_source:.2f}\\n\")\n",
        "        txtfile.write(f\"Flesch Reading Ease: {avg_fre_source:.2f}\\n\")\n",
        "        txtfile.write(f\"SMOG Index: {avg_smog_source:.2f}\\n\\n\")\n",
        "        txtfile.write(\"Simplified Text:\\n\")\n",
        "        txtfile.write(f\"Flesch-Kincaid Grade Level: {avg_fkg_simplified:.2f}\\n\")\n",
        "        txtfile.write(f\"Flesch Reading Ease: {avg_fre_simplified:.2f}\\n\")\n",
        "        txtfile.write(f\"SMOG Index: {avg_smog_simplified:.2f}\\n\")\n",
        "\n",
        "    # Print the file content\n",
        "    with open(txt_file_path, 'r', encoding='utf-8') as txtfile:\n",
        "        print(\"\\n--- Results ---\")\n",
        "        print(txtfile.read())  # Print the results to the console\n",
        "\n",
        "if __name__ == \"__main__\":\n",
        "    main()\n"
      ]
    }
  ]
}